{
 "cells": [
  {
   "cell_type": "markdown",
   "metadata": {},
   "source": [
    "# This notebook is used to predict the buying and selling points from any stock given to the simple logistic regression model"
   ]
  },
  {
   "cell_type": "code",
   "execution_count": 1,
   "metadata": {},
   "outputs": [],
   "source": [
    "import numpy as np\n",
    "import pandas as pd\n",
    "import matplotlib.pyplot as plt\n",
    "from yahoo_fin.stock_info import get_data, tickers_sp500, tickers_nasdaq, tickers_other, get_quote_table\n",
    "from scipy.signal import savgol_filter, argrelmin, argrelmax\n",
    "from sklearn.linear_model import LogisticRegression\n",
    "from sklearn.pipeline import make_pipeline, Pipeline\n",
    "from sklearn.model_selection import train_test_split\n",
    "from sklearn.metrics import roc_auc_score, accuracy_score\n",
    "from sklearn.ensemble import RandomForestClassifier\n",
    "import finta\n",
    "\n",
    "%matplotlib inline"
   ]
  },
  {
   "cell_type": "markdown",
   "metadata": {},
   "source": [
    "# Question to be answered or that have been answered"
   ]
  },
  {
   "cell_type": "code",
   "execution_count": null,
   "metadata": {},
   "outputs": [],
   "source": [
    "# Trying to find out when to buy and when to sell?\n",
    "# Features classify with a 1 when it hits the low\n",
    "# Features classify with a 1 if it hit the high\n",
    "# Look at the average volume and if it goes above that classify it as a 1 if not a 0\n",
    "# Find the cross over between the short rolling ma and the long ma?\n",
    "# If the MACD Crosses the MACD9 calculate it as a 1 else a 0? Maybe a good feature\n",
    "# Adding the pct_change as a feature so it does not calculate on solid numbers?\n",
    "\n",
    "# Calcuate rsi "
   ]
  },
  {
   "cell_type": "code",
   "execution_count": null,
   "metadata": {},
   "outputs": [],
   "source": [
    "def calc_slope(x):\n",
    "    slope = np.polyfit(range(len(x)), x, 1)[0]\n",
    "    return slope"
   ]
  },
  {
   "cell_type": "code",
   "execution_count": 2,
   "metadata": {},
   "outputs": [],
   "source": [
    "def preproces_data(stock_name, start_date, low_order, high_order, avg_volume):\n",
    "    stock = get_data(stock_name)\n",
    "    df = pd.DataFrame(stock).copy()\n",
    "\n",
    "    data09 = df[df.index > start_date].copy()\n",
    "\n",
    "    data09['pct_change'] = data09.adjclose.pct_change()\n",
    "    data09.dropna(inplace=True)\n",
    "    \n",
    "    data09['smooth'] = savgol_filter(data09.adjclose, 9, polyorder=2).copy()\n",
    "\n",
    "    # Making the target variable which will be the low\n",
    "    target = 'target'\n",
    "    max_id = 'max_ids'\n",
    "    data09[target] = 0\n",
    "    data09[max_id] = 0\n",
    "\n",
    "    # Finding the minimum for the historical data\n",
    "    min_ids = argrelmin(data09.smooth.values, order=low_order)[0].tolist()\n",
    "    max_ids = argrelmax(data09.smooth.values, order=high_order)[0].tolist()\n",
    "\n",
    "    # Adding if the low occured that day with a 1 and if it did not a 0\n",
    "    data09[target].iloc[min_ids] = 1\n",
    "    data09[max_id].iloc[max_ids] = 1\n",
    "    \n",
    "    # Adding the average volume\n",
    "    volume = 'avg_volume'\n",
    "    data09[volume] = 0\n",
    "\n",
    "    data09[volume].loc[data09['volume'] > avg_volume] = 1\n",
    "    \n",
    "    # Adding the MACD\n",
    "    short = data09.smooth.rolling(window=12).mean()\n",
    "    long = data09.smooth.rolling(window=26).mean()\n",
    "    data09.dropna(inplace=True)\n",
    "\n",
    "    data09['MACD'] = long - short * -.5\n",
    "    data09['MACD_9'] = data09.MACD.rolling(window=9).mean()\n",
    "    data09 = data09.dropna()\n",
    "    return data09"
   ]
  },
  {
   "cell_type": "code",
   "execution_count": 3,
   "metadata": {},
   "outputs": [],
   "source": [
    "def calc_rsi(data):\n",
    "    diff = data.adjclose.diff(1).dropna()\n",
    "\n",
    "    #this preservers dimensions off diff values\n",
    "    up_chg = 0 * diff\n",
    "    down_chg = 0 * diff\n",
    "\n",
    "    # up change is equal to the positive difference, otherwise equal to zero\n",
    "    up_chg[diff > 0] = diff[ diff>0 ]\n",
    "\n",
    "    # down change is equal to negative deifference, otherwise equal to zero\n",
    "    down_chg[diff < 0] = diff[ diff < 0 ]\n",
    "\n",
    "    # check pandas documentation for ewm\n",
    "    # values are related to exponential decay\n",
    "    # we set com=time_window-1 so we get decay alpha=1/time_window\n",
    "    up_chg_avg   = up_chg.ewm(com=14-1 , min_periods=14).mean()\n",
    "    down_chg_avg = down_chg.ewm(com=14-1 , min_periods=14).mean()\n",
    "\n",
    "    rs = abs(up_chg_avg/down_chg_avg)\n",
    "    rsi = 100 - 100/(1+rs)\n",
    "    \n",
    "    data['RSI'] = rsi\n",
    "    \n",
    "    over_70 = 'RSI_70'\n",
    "    below_30 = 'RSI_30'\n",
    "    data[over_70] = 0\n",
    "    data[below_30] = 0\n",
    "\n",
    "    data[over_70].loc[data['RSI'] >= 70] = 1\n",
    "    data[below_30].loc[data['RSI'] <= 30] = 1\n",
    "    \n",
    "    adjclose = pd.DataFrame()\n",
    "    adjclose['adjclose'] = data['adjclose']\n",
    "    \n",
    "    data.drop(['open', 'low', 'high', 'close', 'volume', 'ticker', 'adjclose'], axis=1, inplace=True)\n",
    "    \n",
    "    data.dropna(inplace=True)\n",
    "    \n",
    "    return adjclose, data"
   ]
  },
  {
   "cell_type": "code",
   "execution_count": 4,
   "metadata": {},
   "outputs": [],
   "source": [
    "def predic(df, target, max_id):    \n",
    "    # Splitting out data to feed into the model\n",
    "    target_cols = [c for c in df.columns.tolist() if c not in [target]]\n",
    "    X_target, y_target = df[target_cols].values, df.target.values\n",
    "    X_train_low, X_test_low, y_train_low, y_test_low = train_test_split(X_target, y_target, train_size=0.8, random_state=42)\n",
    "    target_logreg = LogisticRegression(class_weight='balanced', max_iter=200, random_state=42, penalty = 'l2', solver='lbfgs', C=5.0)\n",
    "    \n",
    "    # Basic logreg\n",
    "    target_logreg.fit(X_train_low, y_train_low)\n",
    "    target_pred = target_logreg.predict(X_test_low)\n",
    "    target_predictions = target_logreg.predict(X_target)\n",
    "    \n",
    "    # Adding our predictions to the data frame\n",
    "    df['low_logreg_predictions'] = target_predictions\n",
    "    \n",
    "    # Splitting data for our max model\n",
    "    max_cols = [c for c in df.columns.tolist() if c not in [max_id]]\n",
    "    X_max, y_max = df[max_cols].values, df.max_ids.values\n",
    "    X_train, X_test, y_train, y_test = train_test_split(X_max, y_max, train_size=0.8, random_state=42)\n",
    "    max_logreg = LogisticRegression(class_weight='balanced', random_state=42, max_iter=350, penalty='l2', solver = 'lbfgs', C=5.0)\n",
    "    \n",
    "    # Basic log reg for max\n",
    "    max_logreg.fit(X_train, y_train)\n",
    "    max_pred = max_logreg.predict(X_test)\n",
    "    max_predictions = max_logreg.predict(X_max)\n",
    "    \n",
    "    # Adding predictions for max back to data frame\n",
    "    df['max_predictions'] = max_predictions\n",
    "    \n",
    "    return target_pred, y_test_low, max_pred, y_test,df"
   ]
  },
  {
   "cell_type": "code",
   "execution_count": 40,
   "metadata": {},
   "outputs": [
    {
     "name": "stderr",
     "output_type": "stream",
     "text": [
      "/opt/anaconda3/envs/learn-env/lib/python3.6/site-packages/pandas/core/indexing.py:205: SettingWithCopyWarning: \n",
      "A value is trying to be set on a copy of a slice from a DataFrame\n",
      "\n",
      "See the caveats in the documentation: http://pandas.pydata.org/pandas-docs/stable/user_guide/indexing.html#returning-a-view-versus-a-copy\n",
      "  self._setitem_with_indexer(indexer, value)\n"
     ]
    }
   ],
   "source": [
    "prep_data = preproces_data('ebr', '2002-07-01', 60, 45, 1320000)"
   ]
  },
  {
   "cell_type": "code",
   "execution_count": 41,
   "metadata": {},
   "outputs": [],
   "source": [
    "adjclose, data_rsi = calc_rsi(prep_data)"
   ]
  },
  {
   "cell_type": "code",
   "execution_count": 42,
   "metadata": {},
   "outputs": [],
   "source": [
    "low_pred,low_real,max_predi,max_real,data = predic(data_rsi, 'target', 'max_ids')"
   ]
  },
  {
   "cell_type": "code",
   "execution_count": 43,
   "metadata": {},
   "outputs": [
    {
     "name": "stdout",
     "output_type": "stream",
     "text": [
      "Log Reg ROC-AUC Score for test data: 0.87677304964539\n",
      "Log Reg Accuracy score for test: 0.7548500881834215\n",
      "\n",
      "Log Reg ROC-AUC Score for test data: 0.5864527629233511\n",
      "Log Reg Accuracy score for test: 0.8342151675485009\n"
     ]
    }
   ],
   "source": [
    "print('Log Reg ROC-AUC Score for test data:', roc_auc_score(low_real, low_pred))\n",
    "print('Log Reg Accuracy score for test:', accuracy_score(low_real, low_pred))\n",
    "\n",
    "\n",
    "print('\\nLog Reg ROC-AUC Score for test data:', roc_auc_score(max_real, max_predi))\n",
    "print('Log Reg Accuracy score for test:', accuracy_score(max_real, max_predi))"
   ]
  },
  {
   "cell_type": "code",
   "execution_count": 44,
   "metadata": {},
   "outputs": [
    {
     "data": {
      "text/html": [
       "<div>\n",
       "<style scoped>\n",
       "    .dataframe tbody tr th:only-of-type {\n",
       "        vertical-align: middle;\n",
       "    }\n",
       "\n",
       "    .dataframe tbody tr th {\n",
       "        vertical-align: top;\n",
       "    }\n",
       "\n",
       "    .dataframe thead th {\n",
       "        text-align: right;\n",
       "    }\n",
       "</style>\n",
       "<table border=\"1\" class=\"dataframe\">\n",
       "  <thead>\n",
       "    <tr style=\"text-align: right;\">\n",
       "      <th></th>\n",
       "      <th>pct_change</th>\n",
       "      <th>smooth</th>\n",
       "      <th>target</th>\n",
       "      <th>max_ids</th>\n",
       "      <th>avg_volume</th>\n",
       "      <th>MACD</th>\n",
       "      <th>MACD_9</th>\n",
       "      <th>RSI</th>\n",
       "      <th>RSI_70</th>\n",
       "      <th>RSI_30</th>\n",
       "      <th>low_logreg_predictions</th>\n",
       "      <th>max_predictions</th>\n",
       "    </tr>\n",
       "  </thead>\n",
       "  <tbody>\n",
       "    <tr>\n",
       "      <td>2020-04-02</td>\n",
       "      <td>0.016317</td>\n",
       "      <td>4.303550</td>\n",
       "      <td>0</td>\n",
       "      <td>0</td>\n",
       "      <td>0</td>\n",
       "      <td>7.433435</td>\n",
       "      <td>8.211524</td>\n",
       "      <td>40.399321</td>\n",
       "      <td>0</td>\n",
       "      <td>0</td>\n",
       "      <td>1</td>\n",
       "      <td>0</td>\n",
       "    </tr>\n",
       "    <tr>\n",
       "      <td>2020-04-03</td>\n",
       "      <td>-0.052752</td>\n",
       "      <td>4.196970</td>\n",
       "      <td>0</td>\n",
       "      <td>0</td>\n",
       "      <td>0</td>\n",
       "      <td>7.297576</td>\n",
       "      <td>7.996268</td>\n",
       "      <td>38.673276</td>\n",
       "      <td>0</td>\n",
       "      <td>0</td>\n",
       "      <td>1</td>\n",
       "      <td>0</td>\n",
       "    </tr>\n",
       "    <tr>\n",
       "      <td>2020-04-06</td>\n",
       "      <td>0.016949</td>\n",
       "      <td>4.268745</td>\n",
       "      <td>0</td>\n",
       "      <td>0</td>\n",
       "      <td>0</td>\n",
       "      <td>7.190082</td>\n",
       "      <td>7.806000</td>\n",
       "      <td>39.520194</td>\n",
       "      <td>0</td>\n",
       "      <td>0</td>\n",
       "      <td>1</td>\n",
       "      <td>0</td>\n",
       "    </tr>\n",
       "    <tr>\n",
       "      <td>2020-04-07</td>\n",
       "      <td>0.030952</td>\n",
       "      <td>4.416753</td>\n",
       "      <td>0</td>\n",
       "      <td>0</td>\n",
       "      <td>0</td>\n",
       "      <td>7.101325</td>\n",
       "      <td>7.638702</td>\n",
       "      <td>41.145750</td>\n",
       "      <td>0</td>\n",
       "      <td>0</td>\n",
       "      <td>1</td>\n",
       "      <td>0</td>\n",
       "    </tr>\n",
       "    <tr>\n",
       "      <td>2020-04-08</td>\n",
       "      <td>0.080831</td>\n",
       "      <td>4.653420</td>\n",
       "      <td>0</td>\n",
       "      <td>0</td>\n",
       "      <td>0</td>\n",
       "      <td>7.028304</td>\n",
       "      <td>7.491797</td>\n",
       "      <td>45.400635</td>\n",
       "      <td>0</td>\n",
       "      <td>0</td>\n",
       "      <td>1</td>\n",
       "      <td>0</td>\n",
       "    </tr>\n",
       "    <tr>\n",
       "      <td>2020-04-09</td>\n",
       "      <td>0.074786</td>\n",
       "      <td>4.918355</td>\n",
       "      <td>0</td>\n",
       "      <td>0</td>\n",
       "      <td>0</td>\n",
       "      <td>6.978968</td>\n",
       "      <td>7.364104</td>\n",
       "      <td>49.344500</td>\n",
       "      <td>0</td>\n",
       "      <td>0</td>\n",
       "      <td>0</td>\n",
       "      <td>0</td>\n",
       "    </tr>\n",
       "    <tr>\n",
       "      <td>2020-04-13</td>\n",
       "      <td>-0.007952</td>\n",
       "      <td>5.081169</td>\n",
       "      <td>0</td>\n",
       "      <td>0</td>\n",
       "      <td>0</td>\n",
       "      <td>6.943288</td>\n",
       "      <td>7.254920</td>\n",
       "      <td>48.909679</td>\n",
       "      <td>0</td>\n",
       "      <td>0</td>\n",
       "      <td>0</td>\n",
       "      <td>0</td>\n",
       "    </tr>\n",
       "    <tr>\n",
       "      <td>2020-04-14</td>\n",
       "      <td>0.076152</td>\n",
       "      <td>5.161082</td>\n",
       "      <td>0</td>\n",
       "      <td>0</td>\n",
       "      <td>0</td>\n",
       "      <td>6.910521</td>\n",
       "      <td>7.162700</td>\n",
       "      <td>53.134678</td>\n",
       "      <td>0</td>\n",
       "      <td>0</td>\n",
       "      <td>0</td>\n",
       "      <td>0</td>\n",
       "    </tr>\n",
       "    <tr>\n",
       "      <td>2020-04-15</td>\n",
       "      <td>-0.055866</td>\n",
       "      <td>5.149481</td>\n",
       "      <td>0</td>\n",
       "      <td>0</td>\n",
       "      <td>0</td>\n",
       "      <td>6.886432</td>\n",
       "      <td>7.085548</td>\n",
       "      <td>49.644250</td>\n",
       "      <td>0</td>\n",
       "      <td>0</td>\n",
       "      <td>0</td>\n",
       "      <td>1</td>\n",
       "    </tr>\n",
       "    <tr>\n",
       "      <td>2020-04-16</td>\n",
       "      <td>-0.021696</td>\n",
       "      <td>5.007316</td>\n",
       "      <td>0</td>\n",
       "      <td>0</td>\n",
       "      <td>0</td>\n",
       "      <td>6.862634</td>\n",
       "      <td>7.022126</td>\n",
       "      <td>48.389073</td>\n",
       "      <td>0</td>\n",
       "      <td>0</td>\n",
       "      <td>0</td>\n",
       "      <td>0</td>\n",
       "    </tr>\n",
       "    <tr>\n",
       "      <td>2020-04-17</td>\n",
       "      <td>0.002016</td>\n",
       "      <td>4.946450</td>\n",
       "      <td>0</td>\n",
       "      <td>0</td>\n",
       "      <td>0</td>\n",
       "      <td>6.848623</td>\n",
       "      <td>6.972242</td>\n",
       "      <td>48.516506</td>\n",
       "      <td>0</td>\n",
       "      <td>0</td>\n",
       "      <td>0</td>\n",
       "      <td>0</td>\n",
       "    </tr>\n",
       "    <tr>\n",
       "      <td>2020-04-20</td>\n",
       "      <td>-0.026157</td>\n",
       "      <td>4.879264</td>\n",
       "      <td>0</td>\n",
       "      <td>0</td>\n",
       "      <td>0</td>\n",
       "      <td>6.839137</td>\n",
       "      <td>6.933248</td>\n",
       "      <td>46.895402</td>\n",
       "      <td>0</td>\n",
       "      <td>0</td>\n",
       "      <td>0</td>\n",
       "      <td>0</td>\n",
       "    </tr>\n",
       "    <tr>\n",
       "      <td>2020-04-21</td>\n",
       "      <td>-0.057851</td>\n",
       "      <td>4.780173</td>\n",
       "      <td>0</td>\n",
       "      <td>0</td>\n",
       "      <td>1</td>\n",
       "      <td>6.832654</td>\n",
       "      <td>6.903396</td>\n",
       "      <td>43.522266</td>\n",
       "      <td>0</td>\n",
       "      <td>0</td>\n",
       "      <td>0</td>\n",
       "      <td>0</td>\n",
       "    </tr>\n",
       "    <tr>\n",
       "      <td>2020-04-22</td>\n",
       "      <td>0.089912</td>\n",
       "      <td>4.576061</td>\n",
       "      <td>0</td>\n",
       "      <td>0</td>\n",
       "      <td>0</td>\n",
       "      <td>6.834924</td>\n",
       "      <td>6.881909</td>\n",
       "      <td>49.275730</td>\n",
       "      <td>0</td>\n",
       "      <td>0</td>\n",
       "      <td>0</td>\n",
       "      <td>0</td>\n",
       "    </tr>\n",
       "    <tr>\n",
       "      <td>2020-04-23</td>\n",
       "      <td>-0.086519</td>\n",
       "      <td>4.349610</td>\n",
       "      <td>0</td>\n",
       "      <td>0</td>\n",
       "      <td>0</td>\n",
       "      <td>6.828885</td>\n",
       "      <td>6.865233</td>\n",
       "      <td>44.191133</td>\n",
       "      <td>0</td>\n",
       "      <td>0</td>\n",
       "      <td>0</td>\n",
       "      <td>0</td>\n",
       "    </tr>\n",
       "    <tr>\n",
       "      <td>2020-04-24</td>\n",
       "      <td>-0.138766</td>\n",
       "      <td>4.259610</td>\n",
       "      <td>0</td>\n",
       "      <td>0</td>\n",
       "      <td>1</td>\n",
       "      <td>6.823909</td>\n",
       "      <td>6.851969</td>\n",
       "      <td>38.003752</td>\n",
       "      <td>0</td>\n",
       "      <td>0</td>\n",
       "      <td>0</td>\n",
       "      <td>0</td>\n",
       "    </tr>\n",
       "    <tr>\n",
       "      <td>2020-04-27</td>\n",
       "      <td>0.012788</td>\n",
       "      <td>4.237502</td>\n",
       "      <td>0</td>\n",
       "      <td>0</td>\n",
       "      <td>1</td>\n",
       "      <td>6.829430</td>\n",
       "      <td>6.842959</td>\n",
       "      <td>38.736888</td>\n",
       "      <td>0</td>\n",
       "      <td>0</td>\n",
       "      <td>0</td>\n",
       "      <td>0</td>\n",
       "    </tr>\n",
       "    <tr>\n",
       "      <td>2020-04-28</td>\n",
       "      <td>0.078283</td>\n",
       "      <td>4.276844</td>\n",
       "      <td>0</td>\n",
       "      <td>0</td>\n",
       "      <td>0</td>\n",
       "      <td>6.835591</td>\n",
       "      <td>6.837310</td>\n",
       "      <td>43.220112</td>\n",
       "      <td>0</td>\n",
       "      <td>0</td>\n",
       "      <td>1</td>\n",
       "      <td>0</td>\n",
       "    </tr>\n",
       "    <tr>\n",
       "      <td>2020-04-29</td>\n",
       "      <td>0.093677</td>\n",
       "      <td>4.377636</td>\n",
       "      <td>0</td>\n",
       "      <td>0</td>\n",
       "      <td>0</td>\n",
       "      <td>6.844656</td>\n",
       "      <td>6.835312</td>\n",
       "      <td>48.461061</td>\n",
       "      <td>0</td>\n",
       "      <td>0</td>\n",
       "      <td>0</td>\n",
       "      <td>0</td>\n",
       "    </tr>\n",
       "    <tr>\n",
       "      <td>2020-04-30</td>\n",
       "      <td>-0.044968</td>\n",
       "      <td>4.539879</td>\n",
       "      <td>0</td>\n",
       "      <td>0</td>\n",
       "      <td>1</td>\n",
       "      <td>6.855380</td>\n",
       "      <td>6.836063</td>\n",
       "      <td>46.057476</td>\n",
       "      <td>0</td>\n",
       "      <td>0</td>\n",
       "      <td>0</td>\n",
       "      <td>0</td>\n",
       "    </tr>\n",
       "  </tbody>\n",
       "</table>\n",
       "</div>"
      ],
      "text/plain": [
       "            pct_change    smooth  target  max_ids  avg_volume      MACD  \\\n",
       "2020-04-02    0.016317  4.303550       0        0           0  7.433435   \n",
       "2020-04-03   -0.052752  4.196970       0        0           0  7.297576   \n",
       "2020-04-06    0.016949  4.268745       0        0           0  7.190082   \n",
       "2020-04-07    0.030952  4.416753       0        0           0  7.101325   \n",
       "2020-04-08    0.080831  4.653420       0        0           0  7.028304   \n",
       "2020-04-09    0.074786  4.918355       0        0           0  6.978968   \n",
       "2020-04-13   -0.007952  5.081169       0        0           0  6.943288   \n",
       "2020-04-14    0.076152  5.161082       0        0           0  6.910521   \n",
       "2020-04-15   -0.055866  5.149481       0        0           0  6.886432   \n",
       "2020-04-16   -0.021696  5.007316       0        0           0  6.862634   \n",
       "2020-04-17    0.002016  4.946450       0        0           0  6.848623   \n",
       "2020-04-20   -0.026157  4.879264       0        0           0  6.839137   \n",
       "2020-04-21   -0.057851  4.780173       0        0           1  6.832654   \n",
       "2020-04-22    0.089912  4.576061       0        0           0  6.834924   \n",
       "2020-04-23   -0.086519  4.349610       0        0           0  6.828885   \n",
       "2020-04-24   -0.138766  4.259610       0        0           1  6.823909   \n",
       "2020-04-27    0.012788  4.237502       0        0           1  6.829430   \n",
       "2020-04-28    0.078283  4.276844       0        0           0  6.835591   \n",
       "2020-04-29    0.093677  4.377636       0        0           0  6.844656   \n",
       "2020-04-30   -0.044968  4.539879       0        0           1  6.855380   \n",
       "\n",
       "              MACD_9        RSI  RSI_70  RSI_30  low_logreg_predictions  \\\n",
       "2020-04-02  8.211524  40.399321       0       0                       1   \n",
       "2020-04-03  7.996268  38.673276       0       0                       1   \n",
       "2020-04-06  7.806000  39.520194       0       0                       1   \n",
       "2020-04-07  7.638702  41.145750       0       0                       1   \n",
       "2020-04-08  7.491797  45.400635       0       0                       1   \n",
       "2020-04-09  7.364104  49.344500       0       0                       0   \n",
       "2020-04-13  7.254920  48.909679       0       0                       0   \n",
       "2020-04-14  7.162700  53.134678       0       0                       0   \n",
       "2020-04-15  7.085548  49.644250       0       0                       0   \n",
       "2020-04-16  7.022126  48.389073       0       0                       0   \n",
       "2020-04-17  6.972242  48.516506       0       0                       0   \n",
       "2020-04-20  6.933248  46.895402       0       0                       0   \n",
       "2020-04-21  6.903396  43.522266       0       0                       0   \n",
       "2020-04-22  6.881909  49.275730       0       0                       0   \n",
       "2020-04-23  6.865233  44.191133       0       0                       0   \n",
       "2020-04-24  6.851969  38.003752       0       0                       0   \n",
       "2020-04-27  6.842959  38.736888       0       0                       0   \n",
       "2020-04-28  6.837310  43.220112       0       0                       1   \n",
       "2020-04-29  6.835312  48.461061       0       0                       0   \n",
       "2020-04-30  6.836063  46.057476       0       0                       0   \n",
       "\n",
       "            max_predictions  \n",
       "2020-04-02                0  \n",
       "2020-04-03                0  \n",
       "2020-04-06                0  \n",
       "2020-04-07                0  \n",
       "2020-04-08                0  \n",
       "2020-04-09                0  \n",
       "2020-04-13                0  \n",
       "2020-04-14                0  \n",
       "2020-04-15                1  \n",
       "2020-04-16                0  \n",
       "2020-04-17                0  \n",
       "2020-04-20                0  \n",
       "2020-04-21                0  \n",
       "2020-04-22                0  \n",
       "2020-04-23                0  \n",
       "2020-04-24                0  \n",
       "2020-04-27                0  \n",
       "2020-04-28                0  \n",
       "2020-04-29                0  \n",
       "2020-04-30                0  "
      ]
     },
     "execution_count": 44,
     "metadata": {},
     "output_type": "execute_result"
    }
   ],
   "source": [
    "data.tail(20)"
   ]
  },
  {
   "cell_type": "code",
   "execution_count": 45,
   "metadata": {},
   "outputs": [
    {
     "data": {
      "image/png": "[encoded data removed]",
      "text/plain": [
       "<Figure size 1152x720 with 1 Axes>"
      ]
     },
     "metadata": {
      "needs_background": "light"
     },
     "output_type": "display_data"
    }
   ],
   "source": [
    "data.smooth.plot(figsize=(16,10))\n",
    "data.low_logreg_predictions.plot()\n",
    "data.target.plot();"
   ]
  },
  {
   "cell_type": "code",
   "execution_count": 46,
   "metadata": {},
   "outputs": [
    {
     "data": {
      "image/png": "[encoded data removed]",
      "text/plain": [
       "<Figure size 1152x720 with 1 Axes>"
      ]
     },
     "metadata": {
      "needs_background": "light"
     },
     "output_type": "display_data"
    }
   ],
   "source": [
    "data.smooth.plot(figsize=(16,10))\n",
    "data.max_predictions.plot()\n",
    "data.max_ids.plot();"
   ]
  },
  {
   "cell_type": "markdown",
   "metadata": {},
   "source": [
    "# Testing phase of my project"
   ]
  },
  {
   "cell_type": "markdown",
   "metadata": {},
   "source": [
    "# Setting the time frame i want so when i visualize the predictions clearly"
   ]
  },
  {
   "cell_type": "code",
   "execution_count": null,
   "metadata": {},
   "outputs": [],
   "source": [
    "# MTNB Stock model\n",
    "stock = get_data('stng')\n",
    "\n",
    "df = pd.DataFrame(stock).copy()\n",
    "\n",
    "start = '2002-01-01'\n",
    "data09 = df[df.index > start].copy()\n",
    "\n",
    "# data09['pct_change'] = data09.adjclose.pct_change()"
   ]
  },
  {
   "cell_type": "code",
   "execution_count": null,
   "metadata": {},
   "outputs": [],
   "source": [
    "data09.drop('ticker', axis=1, inplace=True)"
   ]
  },
  {
   "cell_type": "code",
   "execution_count": null,
   "metadata": {},
   "outputs": [],
   "source": []
  },
  {
   "cell_type": "code",
   "execution_count": null,
   "metadata": {},
   "outputs": [],
   "source": []
  },
  {
   "cell_type": "code",
   "execution_count": null,
   "metadata": {},
   "outputs": [],
   "source": []
  },
  {
   "cell_type": "code",
   "execution_count": null,
   "metadata": {},
   "outputs": [],
   "source": []
  },
  {
   "cell_type": "markdown",
   "metadata": {},
   "source": [
    "# Calculating the RSI"
   ]
  },
  {
   "cell_type": "code",
   "execution_count": null,
   "metadata": {},
   "outputs": [],
   "source": [
    "diff = data09.adjclose.diff(1).dropna()\n",
    "\n",
    "#this preservers dimensions off diff values\n",
    "up_chg = 0 * diff\n",
    "down_chg = 0 * diff\n",
    "\n",
    "# up change is equal to the positive difference, otherwise equal to zero\n",
    "up_chg[diff > 0] = diff[ diff>0 ]\n",
    "\n",
    "# down change is equal to negative deifference, otherwise equal to zero\n",
    "down_chg[diff < 0] = diff[ diff < 0 ]\n",
    "\n",
    "# check pandas documentation for ewm\n",
    "# values are related to exponential decay\n",
    "# we set com=time_window-1 so we get decay alpha=1/time_window\n",
    "up_chg_avg   = up_chg.ewm(com=14-1 , min_periods=14).mean()\n",
    "down_chg_avg = down_chg.ewm(com=14-1 , min_periods=14).mean()\n",
    "\n",
    "rs = abs(up_chg_avg/down_chg_avg)\n",
    "rsi = 100 - 100/(1+rs)"
   ]
  },
  {
   "cell_type": "code",
   "execution_count": null,
   "metadata": {},
   "outputs": [],
   "source": [
    "data09['RSI'] = rsi"
   ]
  },
  {
   "cell_type": "code",
   "execution_count": null,
   "metadata": {},
   "outputs": [],
   "source": [
    "over_70 = 'RSI_70'\n",
    "below_30 = 'RSI_30'\n",
    "data09[over_70] = 0\n",
    "data09[below_30] = 0\n",
    "\n",
    "data09[over_70].loc[data09['RSI'] >= 70] = 1\n",
    "data09[below_30].loc[data09['RSI'] <= 30] = 1"
   ]
  },
  {
   "cell_type": "code",
   "execution_count": null,
   "metadata": {},
   "outputs": [],
   "source": [
    "data09.tail(35)"
   ]
  },
  {
   "cell_type": "code",
   "execution_count": null,
   "metadata": {},
   "outputs": [],
   "source": [
    "data09 = data09.dropna()\n",
    "\n",
    "# data09.adjclose.plot()\n",
    "data09.RSI.plot(figsize=(16,10));"
   ]
  },
  {
   "cell_type": "markdown",
   "metadata": {},
   "source": [
    "# Finding the low points in our stock and the high points for target variables"
   ]
  },
  {
   "cell_type": "code",
   "execution_count": null,
   "metadata": {},
   "outputs": [],
   "source": [
    "# Gern best order is 45 with .80 average accuracy\n",
    "# Gern stock from 2002 to present\n",
    "\n",
    "# ACRX stock best order 40 and 40 for .82 average accuracy\n",
    "# ACRX stock from 2002 to present\n",
    "\n",
    "# XXII stock best order 35 and 45 for average .79 accuracy\n",
    "# XXII stock from 2002 to present\n",
    "\n",
    "# AT stock order is 30 and 35 for .82 average ac\n",
    "# AT stock from 2013 to present\n",
    "\n",
    "# GRPN stock best order is 25 and 20 average accuracu of 80\n",
    "# GRPN stock from 2013 to present\n",
    "\n",
    "# AHT stock order is 30 and 45 for average accuracy of .82\n",
    "# AHT stock from 2002 to present"
   ]
  },
  {
   "cell_type": "code",
   "execution_count": null,
   "metadata": {},
   "outputs": [],
   "source": [
    "# Smoothing to capture a better low\n",
    "data09['smooth'] = savgol_filter(data09.adjclose, 9, polyorder=2)\n",
    "\n",
    "# Making the target variable which will be the low\n",
    "target = 'target'\n",
    "max_id = 'max_ids'\n",
    "data09[target] = 0\n",
    "data09[max_id] = 0\n",
    "\n",
    "# Finding the minimum for the historical data\n",
    "min_ids = argrelmin(data09.smooth.values, order=30)[0].tolist()\n",
    "max_ids = argrelmax(data09.smooth.values, order=35)[0].tolist()\n",
    "\n",
    "# Adding if the low occured that day with a 1 and if it did not a 0\n",
    "data09[target].iloc[min_ids] = 1\n",
    "data09[max_id].iloc[max_ids] = 1"
   ]
  },
  {
   "cell_type": "markdown",
   "metadata": {},
   "source": [
    "# Getting the average volume for a given stock"
   ]
  },
  {
   "cell_type": "code",
   "execution_count": null,
   "metadata": {},
   "outputs": [],
   "source": [
    "avg_volume = 4380000\n",
    "volume = 'avg_volume'\n",
    "data09[volume] = 0\n",
    "\n",
    "data09[volume].loc[data09['volume'] > avg_volume] = 1"
   ]
  },
  {
   "cell_type": "markdown",
   "metadata": {},
   "source": [
    "# Making the MACD and the target MACD"
   ]
  },
  {
   "cell_type": "code",
   "execution_count": null,
   "metadata": {},
   "outputs": [],
   "source": [
    "short = data09.smooth.rolling(window=12).mean()\n",
    "long = data09.smooth.rolling(window=26).mean()\n",
    "data09.dropna(inplace=True)\n",
    "\n",
    "data09['MACD'] = long - short * -.5\n",
    "data09['MACD_9'] = data09.MACD.rolling(window=9).mean()"
   ]
  },
  {
   "cell_type": "markdown",
   "metadata": {},
   "source": [
    "# Droping unwanted information and unwanted columns"
   ]
  },
  {
   "cell_type": "code",
   "execution_count": null,
   "metadata": {},
   "outputs": [],
   "source": [
    "data09 = data09.dropna()"
   ]
  },
  {
   "cell_type": "code",
   "execution_count": null,
   "metadata": {},
   "outputs": [],
   "source": [
    "adjclose = pd.DataFrame()\n",
    "\n",
    "adjclose['adjclose'] = data09['adjclose']"
   ]
  },
  {
   "cell_type": "code",
   "execution_count": null,
   "metadata": {},
   "outputs": [],
   "source": [
    "data09.drop(['open', 'low', 'high', 'close', 'volume', 'ticker', 'adjclose'], axis=1, inplace=True)"
   ]
  },
  {
   "cell_type": "markdown",
   "metadata": {},
   "source": [
    "# Getting the features i need to train my model for the target low"
   ]
  },
  {
   "cell_type": "code",
   "execution_count": null,
   "metadata": {},
   "outputs": [],
   "source": [
    "target_cols = [c for c in data09.columns.tolist() if c not in [target]]\n",
    "\n",
    "X_target, y_target = data09[target_cols].values, data09.target.values\n",
    "\n",
    "X_train, X_test, y_train, y_test = train_test_split(X_target, y_target, train_size=0.8, random_state=42)\n",
    "\n",
    "target_logreg = LogisticRegression(class_weight='balanced', max_iter=100, random_state=42, penalty = 'l2', solver='lbfgs', C=5.0)"
   ]
  },
  {
   "cell_type": "markdown",
   "metadata": {},
   "source": [
    "# Training my model on training data"
   ]
  },
  {
   "cell_type": "code",
   "execution_count": null,
   "metadata": {},
   "outputs": [],
   "source": [
    "# Basic logreg\n",
    "target_logreg.fit(X_train, y_train)\n",
    "target_pred = target_logreg.predict(X_test)\n",
    "target_predictions = target_logreg.predict(X_target)"
   ]
  },
  {
   "cell_type": "markdown",
   "metadata": {},
   "source": [
    "# Analyzing model score"
   ]
  },
  {
   "cell_type": "code",
   "execution_count": null,
   "metadata": {},
   "outputs": [],
   "source": [
    "data09['low_logreg_predictions'] = target_predictions\n",
    "\n",
    "print('Log Reg ROC-AUC Score for test data:', roc_auc_score(y_test, target_pred))\n",
    "print('Log Reg Accuracy score for test:', accuracy_score(y_test, target_pred))"
   ]
  },
  {
   "cell_type": "markdown",
   "metadata": {},
   "source": [
    "# Predicting the highs using logistic regression"
   ]
  },
  {
   "cell_type": "code",
   "execution_count": null,
   "metadata": {},
   "outputs": [],
   "source": [
    "max_cols = [c for c in data09.columns.tolist() if c not in [max_id]]\n",
    "\n",
    "X_max, y_max = data09[max_cols].values, data09.max_ids.values\n",
    "\n",
    "X_train, X_test, y_train, y_test = train_test_split(X_max, y_max, train_size=0.8, random_state=42)\n",
    "\n",
    "max_logreg = LogisticRegression(class_weight='balanced', random_state=42, max_iter=200, penalty='l2', solver = 'lbfgs', C=5.0)"
   ]
  },
  {
   "cell_type": "code",
   "execution_count": null,
   "metadata": {},
   "outputs": [],
   "source": [
    "max_logreg.fit(X_train, y_train)\n",
    "\n",
    "max_pred = max_logreg.predict(X_test)\n",
    "\n",
    "max_predictions = max_logreg.predict(X_max)\n",
    "# Probability max_logreg.predict_proba(X_max)[:,-1]"
   ]
  },
  {
   "cell_type": "code",
   "execution_count": null,
   "metadata": {},
   "outputs": [],
   "source": [
    "data09['max_predictions'] = max_predictions\n",
    "\n",
    "print('ROC-AUC Score for test data:', roc_auc_score(y_test, max_pred))\n",
    "print('Accuracy score for test:', accuracy_score(y_test, max_pred))"
   ]
  },
  {
   "cell_type": "markdown",
   "metadata": {},
   "source": [
    "# Visualizing my graph and predictions"
   ]
  },
  {
   "cell_type": "code",
   "execution_count": null,
   "metadata": {},
   "outputs": [],
   "source": [
    "plt.figure(figsize=(16,10))\n",
    "data09.smooth.plot()\n",
    "# df.lma.plot()\n",
    "# df.sma.plot()\n",
    "# df.MACD.plot()\n",
    "# df.MACD_9.plot()\n",
    "data09.low_logreg_predictions.plot(color='green')\n",
    "data09.target.plot(color='r');\n",
    "# data09.max_predictions.plot(color='red')\n",
    "# data09.max_ids.plot(color='green');"
   ]
  },
  {
   "cell_type": "code",
   "execution_count": null,
   "metadata": {},
   "outputs": [],
   "source": []
  }
 ],
 "metadata": {
  "kernelspec": {
   "display_name": "Python [conda env:learn-env] *",
   "language": "python",
   "name": "conda-env-learn-env-py"
  },
  "language_info": {
   "codemirror_mode": {
    "name": "ipython",
    "version": 3
   },
   "file_extension": ".py",
   "mimetype": "text/x-python",
   "name": "python",
   "nbconvert_exporter": "python",
   "pygments_lexer": "ipython3",
   "version": "3.6.9"
  }
 },
 "nbformat": 4,
 "nbformat_minor": 2
}
