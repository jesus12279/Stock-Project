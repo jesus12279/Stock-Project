{
 "cells": [
  {
   "cell_type": "markdown",
   "metadata": {},
   "source": [
    "## Data links"
   ]
  },
  {
   "cell_type": "markdown",
   "metadata": {},
   "source": [
    "# Getting sms txt from stock data\n",
    "##### https://towardsdatascience.com/predicting-stock-prices-with-python-ec1d0c9bece1\n",
    "\n",
    "# Predictin 30 days into the future of stock price\n",
    "#### https://medium.com/@randerson112358/predict-stock-prices-using-python-machine-learning-53aa024da20a\n",
    "\n",
    "## Make new features from this 30 day prediction?^\n",
    "\n",
    "# Feature engineering stock information\n",
    "\n",
    "#### https://towardsdatascience.com/stock-market-data-collection-feature-engineering-using-python-f201d8a4e8d7"
   ]
  },
  {
   "cell_type": "code",
   "execution_count": null,
   "metadata": {},
   "outputs": [],
   "source": []
  }
 ],
 "metadata": {
  "kernelspec": {
   "display_name": "Python [conda env:learn-env] *",
   "language": "python",
   "name": "conda-env-learn-env-py"
  },
  "language_info": {
   "codemirror_mode": {
    "name": "ipython",
    "version": 3
   },
   "file_extension": ".py",
   "mimetype": "text/x-python",
   "name": "python",
   "nbconvert_exporter": "python",
   "pygments_lexer": "ipython3",
   "version": "3.6.9"
  }
 },
 "nbformat": 4,
 "nbformat_minor": 2
}
