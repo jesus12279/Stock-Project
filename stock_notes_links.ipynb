{
 "cells": [
  {
   "cell_type": "markdown",
   "metadata": {},
   "source": [
    "## Data links"
   ]
  },
  {
   "cell_type": "markdown",
   "metadata": {},
   "source": [
    "# Getting sms txt from stock data\n",
    "##### https://towardsdatascience.com/predicting-stock-prices-with-python-ec1d0c9bece1\n",
    "\n",
    "# Predictin 30 days into the future of stock price\n",
    "#### https://medium.com/@randerson112358/predict-stock-prices-using-python-machine-learning-53aa024da20a\n",
    "\n",
    "## Make new features from this 30 day prediction?^\n",
    "\n",
    "## Using time series to like sma and ewma\n",
    "\n",
    "#### https://www.mlq.ai/python-for-finance-time-series-analysis/\n",
    "\n",
    "## More in-depth explanation of sma, rolling, and window functionalities\n",
    "### https://kite.com/blog/python/pandas-time-series-analysis/\n",
    "\n",
    "\n",
    "## Trading Strategy\n",
    "### https://www.learndatasci.com/tutorials/python-finance-part-3-moving-average-trading-strategy/"
   ]
  },
  {
   "cell_type": "code",
   "execution_count": null,
   "metadata": {},
   "outputs": [],
   "source": [
    "# Continous Compund formula\n",
    "\n",
    "## P(t)=P_{0}e^{rt}\n",
    "# P(t) = value at time t\n",
    "# P_0 = original principal sum\n",
    "# r = nominal annual interest rate\n",
    "# t = length of time the interest is applied"
   ]
  },
  {
   "cell_type": "markdown",
   "metadata": {},
   "source": [
    "## Creating the cumulative log returns formula\n",
    "## c(t)=∑k=1tr(t)"
   ]
  },
  {
   "cell_type": "code",
   "execution_count": null,
   "metadata": {},
   "outputs": [],
   "source": [
    "# The adjusted closing price is often used when examining\n",
    "# or performing a detailed analysis of historical returns"
   ]
  }
 ],
 "metadata": {
  "kernelspec": {
   "display_name": "Python [conda env:learn-env] *",
   "language": "python",
   "name": "conda-env-learn-env-py"
  },
  "language_info": {
   "codemirror_mode": {
    "name": "ipython",
    "version": 3
   },
   "file_extension": ".py",
   "mimetype": "text/x-python",
   "name": "python",
   "nbconvert_exporter": "python",
   "pygments_lexer": "ipython3",
   "version": "3.6.9"
  }
 },
 "nbformat": 4,
 "nbformat_minor": 2
}
